{
 "cells": [
  {
   "cell_type": "code",
   "execution_count": null,
   "metadata": {},
   "outputs": [],
   "source": [
    "# Import modules from external Python files\n",
    "from data_preprocessing import load_and_preprocess_data\n",
    "from visualizations import plot_daily_publication, plot_hourly_publication, plot_heatmap\n",
    "from sentiment_analysis import calculate_textblob_sentiment, calculate_vader_sentiment\n",
    "from publisher_analysis import get_top_publishers, plot_top_publishers\n",
    "from topic_modeling import perform_topic_modeling\n"
   ]
  },
  {
   "cell_type": "code",
   "execution_count": null,
   "metadata": {},
   "outputs": [],
   "source": [
    "# Define the file path for the dataset\n",
    "file_path = r\"D:\\Kifya_training\\Week 1\\Technical  Content\\Data\\raw_analyst_ratings.csv\"\n"
   ]
  },
  {
   "cell_type": "code",
   "execution_count": null,
   "metadata": {},
   "outputs": [],
   "source": [
    "# Load and preprocess the dataset\n",
    "data = load_and_preprocess_data(file_path)\n",
    "\n",
    "# Display the first few rows to check the preprocessing\n",
    "data.head()\n"
   ]
  },
  {
   "cell_type": "code",
   "execution_count": null,
   "metadata": {},
   "outputs": [],
   "source": [
    "# Calculate daily publication frequency\n",
    "daily_publication = data.groupby('date_only').size()\n",
    "\n",
    "# Plot the daily publication frequency\n",
    "plot_daily_publication(daily_publication)\n"
   ]
  },
  {
   "cell_type": "code",
   "execution_count": null,
   "metadata": {},
   "outputs": [],
   "source": [
    "# Calculate hourly publication frequency\n",
    "hourly_publication = data.groupby('hour').size()\n",
    "\n",
    "# Plot the hourly publication frequency\n",
    "plot_hourly_publication(hourly_publication)\n"
   ]
  },
  {
   "cell_type": "code",
   "execution_count": null,
   "metadata": {},
   "outputs": [],
   "source": [
    "# Plot a heatmap to visualize frequency of data points by day and hour\n",
    "plot_heatmap(data)\n"
   ]
  },
  {
   "cell_type": "code",
   "execution_count": null,
   "metadata": {},
   "outputs": [],
   "source": [
    "# Perform sentiment analysis using TextBlob\n",
    "data = calculate_textblob_sentiment(data, 'headline')\n",
    "\n",
    "# Display sentiment analysis results\n",
    "data[['headline', 'textblob_sentiment']].head()\n"
   ]
  },
  {
   "cell_type": "code",
   "execution_count": null,
   "metadata": {},
   "outputs": [],
   "source": [
    "# Perform sentiment analysis using VADER\n",
    "data = calculate_vader_sentiment(data, 'headline')\n",
    "\n",
    "# Display sentiment analysis results\n",
    "data[['headline', 'vader_sentiment']].head()\n"
   ]
  },
  {
   "cell_type": "code",
   "execution_count": null,
   "metadata": {},
   "outputs": [],
   "source": [
    "# Get the top publishers from the data\n",
    "top_publishers = get_top_publishers(data, 'publisher')\n",
    "\n",
    "# Plot the top publishers\n",
    "plot_top_publishers(top_publishers)\n"
   ]
  },
  {
   "cell_type": "code",
   "execution_count": null,
   "metadata": {},
   "outputs": [],
   "source": [
    "# Perform topic modeling using NMF\n",
    "topics = perform_topic_modeling(data, 'headline', n_topics=5)\n",
    "\n",
    "# Display the topics and their associated words\n",
    "for i, topic in enumerate(topics):\n",
    "    print(f\"Topic {i+1}: {', '.join(topic)}\")\n"
   ]
  }
 ],
 "metadata": {
  "kernelspec": {
   "display_name": "venv",
   "language": "python",
   "name": "python3"
  },
  "language_info": {
   "codemirror_mode": {
    "name": "ipython",
    "version": 3
   },
   "file_extension": ".py",
   "mimetype": "text/x-python",
   "name": "python",
   "nbconvert_exporter": "python",
   "pygments_lexer": "ipython3",
   "version": "3.13.0"
  }
 },
 "nbformat": 4,
 "nbformat_minor": 2
}
